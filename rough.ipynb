{
 "cells": [
  {
   "cell_type": "code",
   "execution_count": 59,
   "metadata": {},
   "outputs": [],
   "source": [
    "import torch\n",
    "import torchaudio\n",
    "import os\n",
    "import numpy as np\n",
    "import pandas as pd\n",
    "import json\n",
    "\n",
    "DIR = '../audioData/sythenticSoundscenes/test/'\n",
    "dir_tut = '../audioData/TUTUrban2018/developmentDataset/TUT-urban-acoustic-scenes-2018-development/'"
   ]
  },
  {
   "cell_type": "code",
   "execution_count": 60,
   "metadata": {},
   "outputs": [
    {
     "data": {
      "text/html": [
       "<div>\n",
       "<style scoped>\n",
       "    .dataframe tbody tr th:only-of-type {\n",
       "        vertical-align: middle;\n",
       "    }\n",
       "\n",
       "    .dataframe tbody tr th {\n",
       "        vertical-align: top;\n",
       "    }\n",
       "\n",
       "    .dataframe thead th {\n",
       "        text-align: right;\n",
       "    }\n",
       "</style>\n",
       "<table border=\"1\" class=\"dataframe\">\n",
       "  <thead>\n",
       "    <tr style=\"text-align: right;\">\n",
       "      <th></th>\n",
       "      <th>files</th>\n",
       "      <th>labels</th>\n",
       "    </tr>\n",
       "  </thead>\n",
       "  <tbody>\n",
       "    <tr>\n",
       "      <th>0</th>\n",
       "      <td>audio/airport-barcelona-0-0-a.wav</td>\n",
       "      <td>airport</td>\n",
       "    </tr>\n",
       "    <tr>\n",
       "      <th>1</th>\n",
       "      <td>audio/airport-barcelona-0-1-a.wav</td>\n",
       "      <td>airport</td>\n",
       "    </tr>\n",
       "    <tr>\n",
       "      <th>2</th>\n",
       "      <td>audio/airport-barcelona-0-2-a.wav</td>\n",
       "      <td>airport</td>\n",
       "    </tr>\n",
       "    <tr>\n",
       "      <th>3</th>\n",
       "      <td>audio/airport-barcelona-0-3-a.wav</td>\n",
       "      <td>airport</td>\n",
       "    </tr>\n",
       "    <tr>\n",
       "      <th>4</th>\n",
       "      <td>audio/airport-barcelona-0-4-a.wav</td>\n",
       "      <td>airport</td>\n",
       "    </tr>\n",
       "    <tr>\n",
       "      <th>...</th>\n",
       "      <td>...</td>\n",
       "      <td>...</td>\n",
       "    </tr>\n",
       "    <tr>\n",
       "      <th>6117</th>\n",
       "      <td>audio/tram-vienna-202-6117-a.wav</td>\n",
       "      <td>tram</td>\n",
       "    </tr>\n",
       "    <tr>\n",
       "      <th>6118</th>\n",
       "      <td>audio/tram-vienna-202-6118-a.wav</td>\n",
       "      <td>tram</td>\n",
       "    </tr>\n",
       "    <tr>\n",
       "      <th>6119</th>\n",
       "      <td>audio/tram-vienna-202-6119-a.wav</td>\n",
       "      <td>tram</td>\n",
       "    </tr>\n",
       "    <tr>\n",
       "      <th>6120</th>\n",
       "      <td>audio/tram-vienna-202-6120-a.wav</td>\n",
       "      <td>tram</td>\n",
       "    </tr>\n",
       "    <tr>\n",
       "      <th>6121</th>\n",
       "      <td>audio/tram-vienna-202-6121-a.wav</td>\n",
       "      <td>tram</td>\n",
       "    </tr>\n",
       "  </tbody>\n",
       "</table>\n",
       "<p>6122 rows × 2 columns</p>\n",
       "</div>"
      ],
      "text/plain": [
       "                                  files   labels\n",
       "0     audio/airport-barcelona-0-0-a.wav  airport\n",
       "1     audio/airport-barcelona-0-1-a.wav  airport\n",
       "2     audio/airport-barcelona-0-2-a.wav  airport\n",
       "3     audio/airport-barcelona-0-3-a.wav  airport\n",
       "4     audio/airport-barcelona-0-4-a.wav  airport\n",
       "...                                 ...      ...\n",
       "6117   audio/tram-vienna-202-6117-a.wav     tram\n",
       "6118   audio/tram-vienna-202-6118-a.wav     tram\n",
       "6119   audio/tram-vienna-202-6119-a.wav     tram\n",
       "6120   audio/tram-vienna-202-6120-a.wav     tram\n",
       "6121   audio/tram-vienna-202-6121-a.wav     tram\n",
       "\n",
       "[6122 rows x 2 columns]"
      ]
     },
     "execution_count": 60,
     "metadata": {},
     "output_type": "execute_result"
    }
   ],
   "source": [
    "tut_csv = os.path.join(dir_tut,'train.csv')\n",
    "tut_df = pd.read_csv(tut_csv)\n",
    "tut_df"
   ]
  },
  {
   "cell_type": "code",
   "execution_count": null,
   "metadata": {},
   "outputs": [],
   "source": [
    "all_files = os.listdir('../audioData/sythenticSoundscenes/test/')\n",
    "aud_file_list = []\n",
    "\n",
    "for file in all_files:\n",
    "    if file.split('.')[-1] == 'wav':\n",
    "        aud_file_list.append(file)\n",
    "\n"
   ]
  },
  {
   "cell_type": "code",
   "execution_count": null,
   "metadata": {},
   "outputs": [],
   "source": [
    "lab_file_list = []\n",
    "for file in all_files:\n",
    "    if file.split('.')[-1] == 'jams':\n",
    "        lab_file_list.append(file)"
   ]
  },
  {
   "cell_type": "code",
   "execution_count": null,
   "metadata": {},
   "outputs": [],
   "source": [
    "from torch.utils.data import Dataset\n",
    "\n",
    "class scraperDataset(Dataset):\n",
    "\n",
    "    def __init__(self, dataset_csv, data_dir, only_scene=False):\n",
    "\n",
    "        self.dataset_csv = dataset_csv\n",
    "        self.data_directory = data_dir\n",
    "        self.only_scene = only_scene\n",
    "        self.dataframe = pd.read_csv(dataset_csv)\n",
    "\n",
    "        self.audio_files = self.dataframe['audio_fileNames']\n",
    "        self.label_files = self.dataframe['label_fileNames']\n",
    "        self.scene_labels = self.dataframe['acoustic_scene_label']\n",
    "        self.events_label_list = self.dataframe['events_label_list']\n",
    "\n",
    "    def __len__(self):\n",
    "        return len(self.audio_files)\n",
    "    \n",
    "    def __getitem__(self, idx):\n",
    "        if torch.is_tensor(idx):\n",
    "            idx = idx.tolist()\n",
    "\n",
    "        # Load Audio file\n",
    "        audio_file = os.path.join(self.data_directory, self.audio_files[idx])\n",
    "        audio_data, sr = torchaudio.load(audio_file)\n",
    "\n",
    "        if self.only_scene:\n",
    "            sample = {'audio':audio_data, 'scene_label':self.scene_labels[idx]}\n",
    "        else:\n",
    "            sample = {'audio':audio_data, 'scene_label':self.scene_labels[idx], 'event_list':self.events_label_list[idx]}\n",
    "        \n",
    "        return sample\n"
   ]
  },
  {
   "cell_type": "code",
   "execution_count": null,
   "metadata": {},
   "outputs": [],
   "source": [
    "file_count = pd.DataFrame()\n",
    "file_count['audio_fileNames'] = aud_file_list\n",
    "file_count['label_fileNames'] = lab_file_list\n"
   ]
  },
  {
   "cell_type": "code",
   "execution_count": null,
   "metadata": {},
   "outputs": [],
   "source": [
    "sam_file = '../audioData/sythenticSoundscenes/test/restaurant8_downshift_0.wav'\n",
    "\n",
    "def get_label_data_json(audio_filename):\n",
    "    dir_name, fname = os.path.split(audio_filename)\n",
    "    lab_fname = os.path.join(dir_name, (fname.split('.')[0] + '.jams'))\n",
    "    with open(lab_fname, 'r') as f:\n",
    "        label_data_json = json.load(f)\n",
    "\n",
    "    return label_data_json\n",
    "\n",
    "def get_justLabels(audio_filename, event_labels=True):\n",
    "    scene_label = []\n",
    "    event_label = []\n",
    "    label_data_json = get_label_data_json(audio_filename)\n",
    "    \n",
    "    for events in label_data_json['annotations'][0]['data']:\n",
    "        event_label.append(events['value']['label'])\n",
    "    scene_label.append(event_label.pop(0))\n",
    "    #print(scene_label, event_label)\n",
    "    if event_labels:\n",
    "        return scene_label, event_label\n",
    "    else:\n",
    "        return scene_label\n",
    "\n",
    "def get_labels_with_timestamps(audio_filename):\n",
    "    events_dict = {}\n",
    "    label_data_json = get_label_data_json(audio_filename)\n",
    "\n",
    "    for events in label_data_json['annotations'][0]['data']:\n",
    "        start_time = events['value']['event_time']\n",
    "        duration = events['value']['event_duration']\n",
    "        events_dict[events['value']['label']] = [start_time, duration]\n",
    "\n",
    "    return events_dict\n",
    "\n",
    "get_justLabels(sam_file, event_labels=False)"
   ]
  },
  {
   "cell_type": "code",
   "execution_count": null,
   "metadata": {},
   "outputs": [],
   "source": [
    "activity_labels_list = []\n",
    "for file in aud_file_list:\n",
    "    activity_labels_list.append(get_justLabels(os.path.join(DIR,file), event_labels=False)[0])"
   ]
  },
  {
   "cell_type": "code",
   "execution_count": null,
   "metadata": {},
   "outputs": [],
   "source": [
    "import re\n",
    "\n",
    "pattern = re.compile(r'\\d+')\n",
    "\n",
    "for i in range(0,len(activity_labels_list)):\n",
    "    activity_labels_list[i] = pattern.sub('', activity_labels_list[i])\n",
    "\n",
    "activity_labels_list[-1]"
   ]
  },
  {
   "cell_type": "code",
   "execution_count": null,
   "metadata": {},
   "outputs": [],
   "source": [
    "file_count['acoustic_scene_label'] = activity_labels_list\n",
    "file_count"
   ]
  },
  {
   "cell_type": "code",
   "execution_count": null,
   "metadata": {},
   "outputs": [],
   "source": [
    "event_label_list = []\n",
    "for file in aud_file_list:\n",
    "    event_label_list.append(get_justLabels(os.path.join(DIR, file), True)[1])\n",
    "\n",
    "len(event_label_list)"
   ]
  },
  {
   "cell_type": "code",
   "execution_count": null,
   "metadata": {},
   "outputs": [],
   "source": [
    "file_count['events_label_list'] = event_label_list\n",
    "file_count"
   ]
  },
  {
   "cell_type": "code",
   "execution_count": null,
   "metadata": {},
   "outputs": [],
   "source": [
    "file_count.to_csv('Datasets/scrapper_dataset.csv', index=False)"
   ]
  },
  {
   "cell_type": "code",
   "execution_count": null,
   "metadata": {},
   "outputs": [],
   "source": [
    "file_count['acoustic_scene_label'].unique()"
   ]
  },
  {
   "cell_type": "code",
   "execution_count": null,
   "metadata": {},
   "outputs": [],
   "source": [
    "sam_file = '../audioData/sythenticSoundscenes/test/bus1_0.jams'\n",
    "\n",
    "with open(sam_file, 'r') as f:\n",
    "    data = json.load(f)\n",
    "\n",
    "\n",
    "#data = json.dumps(data)\n",
    "for i in data['annotations'][0]['data']:\n",
    "    print(i['value']['label'])"
   ]
  },
  {
   "cell_type": "code",
   "execution_count": null,
   "metadata": {},
   "outputs": [],
   "source": [
    "data"
   ]
  }
 ],
 "metadata": {
  "kernelspec": {
   "display_name": "noiseremoval",
   "language": "python",
   "name": "python3"
  },
  "language_info": {
   "codemirror_mode": {
    "name": "ipython",
    "version": 3
   },
   "file_extension": ".py",
   "mimetype": "text/x-python",
   "name": "python",
   "nbconvert_exporter": "python",
   "pygments_lexer": "ipython3",
   "version": "3.11.5"
  }
 },
 "nbformat": 4,
 "nbformat_minor": 2
}
