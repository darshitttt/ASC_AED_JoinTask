{
 "cells": [
  {
   "cell_type": "code",
   "execution_count": 1,
   "metadata": {},
   "outputs": [],
   "source": [
    "from torch.utils.data import Dataset\n",
    "import os\n",
    "import torch\n",
    "import torchaudio\n",
    "import pandas as pd\n",
    "import numpy as np"
   ]
  },
  {
   "cell_type": "code",
   "execution_count": 8,
   "metadata": {},
   "outputs": [],
   "source": [
    "class scraperDataset(Dataset):\n",
    "\n",
    "    '''datadir = '../../audioData/sythenticSoundscenes/test/'\n",
    "    csv = 'scrapper_dataset.csv'''\n",
    "\n",
    "    def __init__(self, dataset_csv, data_dir, only_scene=False):\n",
    "\n",
    "        self.dataset_csv = dataset_csv\n",
    "        self.data_directory = data_dir\n",
    "        self.only_scene = only_scene\n",
    "        self.dataframe = pd.read_csv(dataset_csv)\n",
    "\n",
    "        self.audio_files = self.dataframe['audio_fileNames']\n",
    "        self.label_files = self.dataframe['label_fileNames']\n",
    "        self.scene_labels = self.dataframe['acoustic_scene_label']\n",
    "        self.events_label_list = self.dataframe['events_label_list']\n",
    "\n",
    "    def __len__(self):\n",
    "        return len(self.audio_files)\n",
    "    \n",
    "    def __getitem__(self, idx):\n",
    "        if torch.is_tensor(idx):\n",
    "            idx = idx.tolist()\n",
    "\n",
    "        # Load Audio file\n",
    "        audio_file = os.path.join(self.data_directory, self.audio_files[idx])\n",
    "        audio_data, sr = torchaudio.load(audio_file)\n",
    "\n",
    "        if self.only_scene:\n",
    "            sample = {'audio':audio_data, 'scene_label':self.scene_labels[idx]}\n",
    "        else:\n",
    "            sample = {'audio':audio_data, 'scene_label':self.scene_labels[idx], 'event_list':self.events_label_list[idx]}\n",
    "        \n",
    "        return sample\n"
   ]
  },
  {
   "cell_type": "code",
   "execution_count": 9,
   "metadata": {},
   "outputs": [],
   "source": [
    "datadir = '../../audioData/sythenticSoundscenes/test/'\n",
    "csv = 'scrapper_dataset.csv'\n",
    "\n",
    "dataset = scraperDataset(csv, datadir)\n",
    "\n",
    "f10 = [dataset[i] for i in range(10)]"
   ]
  },
  {
   "cell_type": "code",
   "execution_count": 10,
   "metadata": {},
   "outputs": [
    {
     "data": {
      "text/plain": [
       "'bus'"
      ]
     },
     "execution_count": 10,
     "metadata": {},
     "output_type": "execute_result"
    }
   ],
   "source": [
    "f10[0]['scene_label']"
   ]
  }
 ],
 "metadata": {
  "kernelspec": {
   "display_name": "noiseremoval",
   "language": "python",
   "name": "python3"
  },
  "language_info": {
   "codemirror_mode": {
    "name": "ipython",
    "version": 3
   },
   "file_extension": ".py",
   "mimetype": "text/x-python",
   "name": "python",
   "nbconvert_exporter": "python",
   "pygments_lexer": "ipython3",
   "version": "3.11.5"
  }
 },
 "nbformat": 4,
 "nbformat_minor": 2
}
