{
 "cells": [
  {
   "cell_type": "code",
   "execution_count": 2,
   "metadata": {},
   "outputs": [],
   "source": [
    "import sys\n",
    "import os\n",
    "import pandas as pd\n",
    "import numpy as np\n",
    "import torch\n",
    "import torch.nn as nn\n",
    "import torch.optim as optim\n",
    "#import panns_inference\n",
    "\n",
    "TUT_CSV = 'Datasets/TUT18_train.csv'\n",
    "SCAPPER_TRAIN_CSV = 'Datasets/scrapper_train_dataset.csv'\n",
    "SCAPPER_TEST_CSV = 'Datasets/scrapper_test_dataset.csv'\n",
    "TUT_AUD_DIR = '../audioData/TUTUrban2018/developmentDataset/TUT-urban-acoustic-scenes-2018-development/'\n",
    "SCAPPER_AUD_DIR = '../audioData/sythenticSoundscenes/train/'"
   ]
  },
  {
   "cell_type": "code",
   "execution_count": 48,
   "metadata": {},
   "outputs": [],
   "source": [
    "scapper_df = pd.read_csv(SCAPPER_TEST_CSV)\n",
    "scapper_scene_labels = (list)(scapper_df['acoustic_scene_label'].unique())\n",
    "\n",
    "def label_to_one_hot(labels, label_array=scapper_scene_labels):\n",
    "    \"\"\"\n",
    "    Convert string labels to one-hot encoded labels based on the provided array of labels.\n",
    "\n",
    "    Args:\n",
    "    - labels (list of str): List of string labels to convert.\n",
    "    - label_array (numpy array): Array containing all possible labels.\n",
    "\n",
    "    Returns:\n",
    "    - one_hot_encoded (numpy array): One-hot encoded labels corresponding to the input labels.\n",
    "    \"\"\"\n",
    "    label_dict = {label: i for i, label in enumerate(label_array)}\n",
    "    one_hot_encoded = np.zeros((len(labels), len(label_array)), dtype=int)\n",
    "    for i, label in enumerate(labels):\n",
    "        if label in label_dict:\n",
    "            one_hot_encoded[i, label_dict[label]] = 1\n",
    "    return torch.tensor(one_hot_encoded)\n",
    "\n",
    "def convert_outputs(outputs):\n",
    "    new_output = [0. for i in range((outputs.shape[0]))]\n",
    "    new_output[np.argmax(outputs)] = 1.\n",
    "    return np.array(new_output)\n"
   ]
  },
  {
   "cell_type": "code",
   "execution_count": 4,
   "metadata": {},
   "outputs": [],
   "source": [
    "sys.path.append('Datasets/')\n",
    "sys.path.append('utils/')\n",
    "import datasets\n",
    "import audio_utils\n",
    "\n",
    "scapper_dataset = datasets.scraperDataset(SCAPPER_TEST_CSV, SCAPPER_AUD_DIR, only_scene=False, transforms=audio_utils.get_log_melSpectrogram)"
   ]
  },
  {
   "cell_type": "code",
   "execution_count": 5,
   "metadata": {},
   "outputs": [
    {
     "name": "stdout",
     "output_type": "stream",
     "text": [
      "torch.Size([1, 40, 1501])\n",
      "torch.Size([1, 40, 1501])\n",
      "torch.Size([1, 40, 1501])\n"
     ]
    }
   ],
   "source": [
    "for i in range(3):\n",
    "    print(scapper_dataset[i]['data'].shape)"
   ]
  },
  {
   "cell_type": "code",
   "execution_count": 6,
   "metadata": {},
   "outputs": [
    {
     "name": "stdout",
     "output_type": "stream",
     "text": [
      "tensor([[0, 0, 0, 0, 0, 0, 1, 0, 0, 0],\n",
      "        [0, 0, 0, 0, 0, 0, 0, 0, 0, 1],\n",
      "        [0, 1, 0, 0, 0, 0, 0, 0, 0, 0],\n",
      "        [0, 0, 0, 0, 0, 1, 0, 0, 0, 0],\n",
      "        [0, 0, 0, 0, 0, 0, 0, 1, 0, 0],\n",
      "        [0, 0, 1, 0, 0, 0, 0, 0, 0, 0],\n",
      "        [0, 0, 0, 0, 0, 0, 0, 0, 1, 0],\n",
      "        [0, 0, 0, 0, 0, 0, 0, 1, 0, 0],\n",
      "        [0, 0, 0, 0, 0, 1, 0, 0, 0, 0],\n",
      "        [0, 0, 0, 0, 0, 0, 0, 1, 0, 0],\n",
      "        [0, 0, 0, 0, 0, 0, 0, 1, 0, 0],\n",
      "        [0, 0, 1, 0, 0, 0, 0, 0, 0, 0],\n",
      "        [0, 0, 1, 0, 0, 0, 0, 0, 0, 0],\n",
      "        [0, 0, 0, 0, 0, 1, 0, 0, 0, 0],\n",
      "        [0, 0, 0, 0, 0, 0, 0, 0, 0, 1],\n",
      "        [0, 0, 0, 0, 0, 0, 0, 0, 0, 1],\n",
      "        [0, 0, 0, 0, 0, 0, 0, 0, 1, 0],\n",
      "        [1, 0, 0, 0, 0, 0, 0, 0, 0, 0],\n",
      "        [0, 0, 0, 0, 0, 0, 0, 0, 0, 1],\n",
      "        [0, 0, 0, 1, 0, 0, 0, 0, 0, 0],\n",
      "        [0, 0, 0, 0, 0, 0, 0, 1, 0, 0],\n",
      "        [0, 0, 0, 0, 0, 0, 0, 1, 0, 0],\n",
      "        [0, 0, 0, 0, 0, 0, 0, 0, 1, 0],\n",
      "        [0, 1, 0, 0, 0, 0, 0, 0, 0, 0],\n",
      "        [1, 0, 0, 0, 0, 0, 0, 0, 0, 0],\n",
      "        [0, 0, 0, 0, 0, 1, 0, 0, 0, 0],\n",
      "        [0, 0, 0, 0, 0, 0, 0, 0, 1, 0],\n",
      "        [0, 0, 0, 0, 0, 0, 1, 0, 0, 0],\n",
      "        [0, 0, 1, 0, 0, 0, 0, 0, 0, 0],\n",
      "        [0, 0, 0, 0, 0, 0, 0, 1, 0, 0],\n",
      "        [0, 0, 0, 0, 1, 0, 0, 0, 0, 0],\n",
      "        [0, 0, 1, 0, 0, 0, 0, 0, 0, 0]])\n"
     ]
    }
   ],
   "source": [
    "from torch.utils.data import DataLoader\n",
    "\n",
    "test_loader = DataLoader(scapper_dataset, batch_size=32, shuffle=True)\n",
    "\n",
    "for i, batch in enumerate(test_loader):\n",
    "    if i == 0:\n",
    "        print(label_to_one_hot(batch['scene_label']))\n",
    "    else:\n",
    "        break"
   ]
  },
  {
   "cell_type": "code",
   "execution_count": 7,
   "metadata": {},
   "outputs": [],
   "source": [
    "import torch.nn.functional as F\n",
    "\n",
    "class ASC_Model00(nn.Module):\n",
    "    def __init__(self):\n",
    "        super(ASC_Model00, self).__init__()\n",
    "        \n",
    "        # Convolutional layers\n",
    "        self.conv1 = nn.Conv2d(in_channels=1, out_channels=32, kernel_size=3, stride=2, padding=1)\n",
    "        self.conv2 = nn.Conv2d(in_channels=32, out_channels=64, kernel_size=3, stride=2, padding=1)\n",
    "        self.conv3 = nn.Conv2d(in_channels=64, out_channels=128, kernel_size=3, stride=2, padding=1)\n",
    "        \n",
    "        # Pooling layer\n",
    "        self.pool = nn.AdaptiveAvgPool2d(output_size=1)\n",
    "        \n",
    "        # Fully connected layers\n",
    "        self.fc1 = nn.Linear(128, 256)\n",
    "        self.fc2 = nn.Linear(256, 1024)\n",
    "        self.fc3 = nn.Linear(1024, 2048)\n",
    "        self.relu = nn.ReLU()\n",
    "        # Output layers\n",
    "        self.output_layer = nn.Linear(2048, 10)\n",
    "        self.softmax = nn.Softmax()\n",
    "        #self.second_last_layer = nn.Linear(2048, 2048)\n",
    "        \n",
    "    def forward(self, x):\n",
    "        # Convolutional layers\n",
    "        x = self.relu(self.conv1(x))\n",
    "        x = self.relu(self.conv2(x))\n",
    "        x = self.relu(self.conv3(x))\n",
    "        \n",
    "        # Pooling layer\n",
    "        x = self.pool(x)\n",
    "        \n",
    "        # Flatten tensor\n",
    "        x = x.flatten(start_dim=1)\n",
    "        # Fully connected layers\n",
    "        x = self.relu(self.fc1(x))\n",
    "        x = self.relu(self.fc2(x))\n",
    "        second_last = self.relu(self.fc3(x))\n",
    "        \n",
    "        # Output layers\n",
    "        output = self.output_layer(second_last)\n",
    "        #second_last = self.second_last_layer(x)\n",
    "        \n",
    "        return (output), second_last"
   ]
  },
  {
   "cell_type": "code",
   "execution_count": 9,
   "metadata": {},
   "outputs": [
    {
     "data": {
      "text/plain": [
       "<All keys matched successfully>"
      ]
     },
     "execution_count": 9,
     "metadata": {},
     "output_type": "execute_result"
    }
   ],
   "source": [
    "model = ASC_Model00()\n",
    "model.load_state_dict(torch.load('ASC_Model00_00_statedict.pt'))\n",
    "#loss_fn = nn.CrossEntropyLoss()\n",
    "#optimizer = optim.Adam(model.parameters(), lr=0.001)"
   ]
  },
  {
   "cell_type": "code",
   "execution_count": 45,
   "metadata": {},
   "outputs": [],
   "source": [
    "from sklearn.metrics import accuracy_score, f1_score, precision_score\n",
    "\n",
    "device = 'cuda' if torch.cuda.is_available() else 'cpu'\n",
    "model = model.to(device)\n",
    "\n",
    "all_labels = []\n",
    "all_predictions = []\n",
    "\n",
    "model.eval()\n",
    "with torch.inference_mode():\n",
    "    for i, batch in enumerate(test_loader):\n",
    "        inputs, labels = batch['data'], label_to_one_hot(batch['scene_label'])\n",
    "        inputs = inputs.to(device)\n",
    "        labels = labels.to(device = device, dtype=torch.float)\n",
    "        outputs, second_last = model(inputs)\n",
    "\n",
    "        outputs = (torch.sigmoid(outputs)).to(device = device, dtype=torch.float)\n",
    "\n",
    "        all_labels.extend(labels.cpu().numpy())\n",
    "        all_predictions.extend(outputs.cpu().numpy())\n",
    "\n",
    "    '''print(accuracy_score(all_labels, all_predictions))\n",
    "    print(f1_score(all_labels, all_predictions, average='macro'))\n",
    "    print(precision_score(all_labels, all_predictions, average='macro'))'''"
   ]
  },
  {
   "cell_type": "code",
   "execution_count": 49,
   "metadata": {},
   "outputs": [
    {
     "name": "stdout",
     "output_type": "stream",
     "text": [
      "0.8\n",
      "0.7925053674044534\n",
      "0.822617791178798\n"
     ]
    }
   ],
   "source": [
    "for i in range(len(all_predictions)):\n",
    "    all_predictions[i] = convert_outputs(all_predictions[i])\n",
    "\n",
    "print(accuracy_score(all_labels, all_predictions))\n",
    "print(f1_score(all_labels, all_predictions, average='macro'))\n",
    "print(precision_score(all_labels, all_predictions, average='macro'))"
   ]
  },
  {
   "cell_type": "code",
   "execution_count": 70,
   "metadata": {},
   "outputs": [
    {
     "data": {
      "text/plain": [
       "['bus',\n",
       " 'busystreet',\n",
       " 'office',\n",
       " 'openairmarket',\n",
       " 'park',\n",
       " 'quietstreet',\n",
       " 'restaurant',\n",
       " 'supermarket',\n",
       " 'tube',\n",
       " 'tubestation']"
      ]
     },
     "execution_count": 70,
     "metadata": {},
     "output_type": "execute_result"
    }
   ],
   "source": [
    "scapper_scene_labels"
   ]
  },
  {
   "cell_type": "code",
   "execution_count": 71,
   "metadata": {},
   "outputs": [],
   "source": [
    "labels_array = []\n",
    "labels_preds = []\n",
    "\n",
    "for i in range(len(all_labels)):\n",
    "    labels_array.append(scapper_scene_labels[np.argmax(all_labels[i])])\n",
    "    labels_preds.append(scapper_scene_labels[np.argmax(all_predictions[i])])"
   ]
  },
  {
   "cell_type": "code",
   "execution_count": 74,
   "metadata": {},
   "outputs": [
    {
     "data": {
      "image/png": "[encoded data removed]",
      "text/plain": [
       "<Figure size 800x600 with 2 Axes>"
      ]
     },
     "metadata": {},
     "output_type": "display_data"
    }
   ],
   "source": [
    "import matplotlib.pyplot as plt\n",
    "from sklearn.metrics import confusion_matrix\n",
    "import seaborn as sns\n",
    "\n",
    "def plot_confusion_matrix(true_labels, predicted_labels, classes):\n",
    "    cm = confusion_matrix(true_labels, predicted_labels)\n",
    "    plt.figure(figsize=(8, 6))\n",
    "    sns.heatmap(cm, annot=True, fmt=\"d\", cmap=\"Blues\", xticklabels=classes, yticklabels=classes)\n",
    "    plt.xlabel('Predicted labels')\n",
    "    plt.ylabel('True labels')\n",
    "    plt.title('Confusion Matrix')\n",
    "    plt.show()\n",
    "\n",
    "# Example usage:\n",
    "classes = scapper_scene_labels\n",
    "\n",
    "\n",
    "plot_confusion_matrix(labels_array, labels_preds, classes)"
   ]
  },
  {
   "cell_type": "code",
   "execution_count": 43,
   "metadata": {},
   "outputs": [
    {
     "ename": "ValueError",
     "evalue": "only one element tensors can be converted to Python scalars",
     "output_type": "error",
     "traceback": [
      "\u001b[0;31m---------------------------------------------------------------------------\u001b[0m",
      "\u001b[0;31mValueError\u001b[0m                                Traceback (most recent call last)",
      "Cell \u001b[0;32mIn[43], line 11\u001b[0m\n\u001b[1;32m      8\u001b[0m accuracy \u001b[38;5;241m=\u001b[39m Accuracy(task\u001b[38;5;241m=\u001b[39m\u001b[38;5;124m'\u001b[39m\u001b[38;5;124mmulticlass\u001b[39m\u001b[38;5;124m'\u001b[39m, num_classes\u001b[38;5;241m=\u001b[39m\u001b[38;5;241m10\u001b[39m)\n\u001b[1;32m      9\u001b[0m f1Score \u001b[38;5;241m=\u001b[39m F1Score(task\u001b[38;5;241m=\u001b[39m\u001b[38;5;124m'\u001b[39m\u001b[38;5;124mmulticlass\u001b[39m\u001b[38;5;124m'\u001b[39m, num_classes\u001b[38;5;241m=\u001b[39m\u001b[38;5;241m10\u001b[39m, average\u001b[38;5;241m=\u001b[39m\u001b[38;5;124m'\u001b[39m\u001b[38;5;124mmacro\u001b[39m\u001b[38;5;124m'\u001b[39m)\n\u001b[0;32m---> 11\u001b[0m \u001b[38;5;28mprint\u001b[39m(accuracy(\u001b[43mtorch\u001b[49m\u001b[38;5;241;43m.\u001b[39;49m\u001b[43mTensor\u001b[49m\u001b[43m(\u001b[49m\u001b[43mall_predictions\u001b[49m\u001b[43m)\u001b[49m, torch\u001b[38;5;241m.\u001b[39mTensor(all_labels)))\n",
      "\u001b[0;31mValueError\u001b[0m: only one element tensors can be converted to Python scalars"
     ]
    }
   ],
   "source": [
    "#type(convert_outputs(torch.Tensor(all_predictions[0])))\n",
    "for i in range(len(all_predictions)):\n",
    "    all_predictions[i] = (convert_outputs(torch.Tensor(all_predictions[i])))\n",
    "    all_labels[i] = torch.Tensor(all_labels[i])\n",
    "\n",
    "from torchmetrics import F1Score, Accuracy\n",
    "\n",
    "accuracy = Accuracy(task='multiclass', num_classes=10)\n",
    "f1Score = F1Score(task='multiclass', num_classes=10, average='macro')\n",
    "\n",
    "print(accuracy(torch.Tensor(all_predictions), torch.Tensor(all_labels)))\n",
    "\n"
   ]
  },
  {
   "cell_type": "code",
   "execution_count": 10,
   "metadata": {},
   "outputs": [
    {
     "name": "stdout",
     "output_type": "stream",
     "text": [
      "Epoch 1, Loss: 2.227707805785727\n",
      "Epoch 2, Loss: 1.8756551805962907\n",
      "Epoch 3, Loss: 1.7171840020950804\n",
      "Epoch 4, Loss: 1.6200420881839508\n",
      "Epoch 5, Loss: 1.3975865048296907\n",
      "Epoch 6, Loss: 1.2634150037106047\n",
      "Epoch 7, Loss: 1.0371648073196411\n",
      "Epoch 8, Loss: 0.9583680065388375\n",
      "Epoch 9, Loss: 0.7565000646925987\n",
      "Epoch 10, Loss: 0.594993031088342\n"
     ]
    }
   ],
   "source": [
    "device = 'cuda' if torch.cuda.is_available() else 'cpu'\n",
    "model = model.to(device)\n",
    "\n",
    "epochs = 10\n",
    "\n",
    "for epoch in range(epochs):\n",
    "    running_loss = 0\n",
    "    model.train()\n",
    "    for i, batch in enumerate(train_loader):\n",
    "\n",
    "        optimizer.zero_grad()\n",
    "        inputs, labels = batch['data'], label_to_one_hot(batch['scene_label'])\n",
    "        inputs = inputs.to(device)\n",
    "        labels = labels.to(device = device, dtype=torch.float)\n",
    "\n",
    "        outputs, second_last = model(inputs)\n",
    "        loss = loss_fn(outputs, labels)\n",
    "        running_loss += loss.item()\n",
    "        loss.backward()\n",
    "        optimizer.step()\n",
    "    print(f'Epoch {epoch + 1}, Loss: {running_loss / len(train_loader)}')"
   ]
  },
  {
   "cell_type": "code",
   "execution_count": 22,
   "metadata": {},
   "outputs": [
    {
     "name": "stdout",
     "output_type": "stream",
     "text": [
      "torch.Size([1, 10])\n",
      "[0.0, 0.0, 0.0, 0.0, 0.0, 0.0, 0.0, 0.0, 0.0, 0.0]\n",
      "tensor([0., 0., 0., 0., 0., 0., 0., 0., 1., 0.])\n",
      "tube tube\n"
     ]
    }
   ],
   "source": [
    "i = 2569\n",
    "sample = os.path.join(SCAPPER_AUD_DIR, scapper_df['audio_fileNames'][i])\n",
    "audio = audio_utils.load_audio_from_file(sample)\n",
    "spec = audio_utils.get_log_melSpectrogram(audio)\n",
    "\n",
    "model = model.cpu()\n",
    "with torch.inference_mode():\n",
    "    model.eval()\n",
    "    output, second_last = model(spec.unsqueeze(0))\n",
    "    print(output.shape)\n",
    "    print(convert_outputs(torch.sigmoid(output)))\n",
    "    #print(torch.argmax(output))\n",
    "\n",
    "print(scapper_df['acoustic_scene_label'][i], scapper_scene_labels[torch.argmax(output)])\n"
   ]
  },
  {
   "cell_type": "code",
   "execution_count": 18,
   "metadata": {},
   "outputs": [],
   "source": [
    "torch.save(model.state_dict(), 'ASC_Model00_00_statedict.pt')"
   ]
  },
  {
   "cell_type": "code",
   "execution_count": 86,
   "metadata": {},
   "outputs": [
    {
     "data": {
      "text/plain": [
       "['bus',\n",
       " 'busystreet',\n",
       " 'office',\n",
       " 'openairmarket',\n",
       " 'park',\n",
       " 'quietstreet',\n",
       " 'restaurant',\n",
       " 'supermarket',\n",
       " 'tube',\n",
       " 'tubestation']"
      ]
     },
     "execution_count": 86,
     "metadata": {},
     "output_type": "execute_result"
    }
   ],
   "source": [
    "scapper_scene_labels"
   ]
  },
  {
   "cell_type": "code",
   "execution_count": 20,
   "metadata": {},
   "outputs": [
    {
     "name": "stdout",
     "output_type": "stream",
     "text": [
      "[[1 0 0 0 0 0 0 0 0 0]]\n",
      "[[1 0 0 0 0 0 0 0 0 0]]\n",
      "[[1 0 0 0 0 0 0 0 0 0]]\n",
      "[[1 0 0 0 0 0 0 0 0 0]]\n",
      "[[1 0 0 0 0 0 0 0 0 0]]\n"
     ]
    }
   ],
   "source": [
    "for i in range(0,5):\n",
    "    print(label_to_one_hot([scapper_dataset[i]['scene_label']]))"
   ]
  }
 ],
 "metadata": {
  "kernelspec": {
   "display_name": "noiseremoval",
   "language": "python",
   "name": "python3"
  },
  "language_info": {
   "codemirror_mode": {
    "name": "ipython",
    "version": 3
   },
   "file_extension": ".py",
   "mimetype": "text/x-python",
   "name": "python",
   "nbconvert_exporter": "python",
   "pygments_lexer": "ipython3",
   "version": "3.11.5"
  }
 },
 "nbformat": 4,
 "nbformat_minor": 2
}
