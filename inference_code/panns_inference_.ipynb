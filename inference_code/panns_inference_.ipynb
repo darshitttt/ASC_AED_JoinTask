{
 "cells": [
  {
   "cell_type": "code",
   "execution_count": 1,
   "metadata": {},
   "outputs": [],
   "source": [
    "import panns_inference\n",
    "import librosa\n",
    "from panns_inference import AudioTagging, SoundEventDetection\n",
    "import numpy as np\n",
    "import pandas as pd\n",
    "import os"
   ]
  },
  {
   "cell_type": "code",
   "execution_count": null,
   "metadata": {},
   "outputs": [],
   "source": [
    "model_path00 = 'models/Cnn14_mAP=0.431.pth'\n",
    "model_path01 = 'models/Cnn14_DecisionLevelMax.pth'\n",
    "\n",
    "def get_event_list(clipwise_output):\n",
    "\n",
    "    # With the slicing, we are reversing the sorted index to get the descending order of event probs.\n",
    "    sorted_indexes = np.argsort(clipwise_output)[::-1]\n",
    "    event_list = []\n",
    "\n",
    "    # Creating a list of events with more than 0.05 prob\n",
    "    for i in range(0, len(sorted_indexes)):\n",
    "        event_prob = clipwise_output[sorted_indexes[i]]\n",
    "        if event_prob > 0.05:\n",
    "            event_list.append(np.array(labels)[sorted_indexes[i]])\n",
    "    \n",
    "    return event_list\n",
    "    \n",
    "\n",
    "def get_panns_inference(audio_file_name, model_path):\n",
    "\n",
    "    (audio, _) = librosa.core.load(audio_file_name, sr=32000, mono=True)\n",
    "    audio = audio[None, :]\n",
    "    at = AudioTagging(checkpoint_path=model_path, device='cuda')\n",
    "    (clipwise_output, embedding) = at.inference(audio)\n",
    "\n",
    "    event_list = get_event_list(clipwise_output[0])\n",
    "    return event_list\n",
    "\n",
    "def get_panns_event_labels(files_list, audio_dir):\n",
    "    event_labels_list = []\n",
    "    \n",
    "    for file in files_list:\n",
    "        audio_fname = os.path.join(audio_dir, file)\n",
    "        audio_event_list = get_panns_inference(audio_fname, model_path00)\n",
    "        event_labels_list.append(audio_event_list)\n",
    "\n",
    "        return event_labels_list\n"
   ]
  },
  {
   "cell_type": "code",
   "execution_count": 3,
   "metadata": {},
   "outputs": [],
   "source": [
    "!python3 panns_inference_.py"
   ]
  }
 ],
 "metadata": {
  "kernelspec": {
   "display_name": "noiseremoval",
   "language": "python",
   "name": "python3"
  },
  "language_info": {
   "codemirror_mode": {
    "name": "ipython",
    "version": 3
   },
   "file_extension": ".py",
   "mimetype": "text/x-python",
   "name": "python",
   "nbconvert_exporter": "python",
   "pygments_lexer": "ipython3",
   "version": "3.11.5"
  }
 },
 "nbformat": 4,
 "nbformat_minor": 2
}
