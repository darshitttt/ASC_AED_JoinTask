{
 "cells": [
  {
   "cell_type": "code",
   "execution_count": 24,
   "metadata": {},
   "outputs": [],
   "source": [
    "import sys\n",
    "import os\n",
    "import pandas as pd\n",
    "\n",
    "TUT_CSV = 'Datasets/TUT18_train.csv'\n",
    "SCAPPER_CSV = 'Datasets/scrapper_train_dataset.csv'\n",
    "AUDIOSET_CSV = 'class_labels_indices.csv'\n",
    "\n",
    "TUT_DF = pd.read_csv(TUT_CSV)\n",
    "SCAPPER_DF = pd.read_csv(SCAPPER_CSV)\n",
    "AUDIOSET_DF = pd.read_csv(AUDIOSET_CSV)\n"
   ]
  },
  {
   "cell_type": "code",
   "execution_count": 28,
   "metadata": {},
   "outputs": [],
   "source": [
    "scapper_scenes = SCAPPER_DF['acoustic_scene_label'].unique()\n",
    "tut_scenes = TUT_DF['labels'].unique()\n",
    "audioset_events = AUDIOSET_DF['display_name'].to_list()"
   ]
  },
  {
   "cell_type": "code",
   "execution_count": 20,
   "metadata": {},
   "outputs": [],
   "source": [
    "import re\n",
    "pattern = r'[^a-zA-Z0-9\\s]'\n",
    "event_label_list = []\n",
    "scapper_unique_events = set()\n",
    "\n",
    "for i in range (len(SCAPPER_DF['events_label_list'])):\n",
    "    event_list = re.sub(pattern, '', SCAPPER_DF['events_label_list'][i])\n",
    "    event_label_list.append(event_list.split(' '))\n",
    "\n",
    "    scapper_unique_events.update(event_list.split(' '))"
   ]
  },
  {
   "cell_type": "code",
   "execution_count": 29,
   "metadata": {},
   "outputs": [],
   "source": [
    "from sentence_transformers import SentenceTransformer\n",
    "language_model = SentenceTransformer('all-MiniLM-L6-v2')\n",
    "\n",
    "scapper_scenes_semantic_embeddings = language_model.encode(scapper_scenes)\n",
    "tut_scenes_semantic_embeddings = language_model.encode(tut_scenes)\n",
    "scapper_event_semantic_embeddings = language_model.encode(list(scapper_unique_events))\n",
    "audioset_event_semantic_embeddings = language_model.encode(audioset_events)\n"
   ]
  },
  {
   "cell_type": "code",
   "execution_count": 55,
   "metadata": {},
   "outputs": [],
   "source": [
    "from sklearn.metrics.pairwise import cosine_distances\n",
    "\n",
    "def get_embeddings_distance(label1, label2):\n",
    "    semantic_embeddings1 = np.reshape(language_model.encode(label1), (1, -1))\n",
    "    semantic_embeddings2 = np.reshape(language_model.encode(label2), (1, -1))\n",
    "    return cosine_distances(semantic_embeddings1, semantic_embeddings2)"
   ]
  },
  {
   "cell_type": "code",
   "execution_count": 58,
   "metadata": {},
   "outputs": [],
   "source": [
    "scapper_tut_scenes_df = pd.DataFrame(index=scapper_scenes, columns=tut_scenes)\n",
    "\n",
    "for i in range(len(tut_scenes)):\n",
    "    for j in range(len(scapper_scenes)):\n",
    "        cosine_distanc = get_embeddings_distance(tut_scenes[i], scapper_scenes[j])\n",
    "        scapper_tut_scenes_df[tut_scenes[i]][scapper_scenes[j]] = cosine_distanc\n"
   ]
  },
  {
   "cell_type": "code",
   "execution_count": 59,
   "metadata": {},
   "outputs": [
    {
     "data": {
      "text/html": [
       "<div>\n",
       "<style scoped>\n",
       "    .dataframe tbody tr th:only-of-type {\n",
       "        vertical-align: middle;\n",
       "    }\n",
       "\n",
       "    .dataframe tbody tr th {\n",
       "        vertical-align: top;\n",
       "    }\n",
       "\n",
       "    .dataframe thead th {\n",
       "        text-align: right;\n",
       "    }\n",
       "</style>\n",
       "<table border=\"1\" class=\"dataframe\">\n",
       "  <thead>\n",
       "    <tr style=\"text-align: right;\">\n",
       "      <th></th>\n",
       "      <th>airport</th>\n",
       "      <th>bus</th>\n",
       "      <th>metro</th>\n",
       "      <th>metro_station</th>\n",
       "      <th>park</th>\n",
       "      <th>public_square</th>\n",
       "      <th>shopping_mall</th>\n",
       "      <th>street_pedestrian</th>\n",
       "      <th>street_traffic</th>\n",
       "      <th>tram</th>\n",
       "    </tr>\n",
       "  </thead>\n",
       "  <tbody>\n",
       "    <tr>\n",
       "      <th>bus</th>\n",
       "      <td>[[0.56299496]]</td>\n",
       "      <td>[[0.0]]</td>\n",
       "      <td>[[0.63388085]]</td>\n",
       "      <td>[[0.63291025]]</td>\n",
       "      <td>[[0.57808065]]</td>\n",
       "      <td>[[0.77133995]]</td>\n",
       "      <td>[[0.7124024]]</td>\n",
       "      <td>[[0.6849394]]</td>\n",
       "      <td>[[0.61847985]]</td>\n",
       "      <td>[[0.62227905]]</td>\n",
       "    </tr>\n",
       "    <tr>\n",
       "      <th>busystreet</th>\n",
       "      <td>[[0.7786833]]</td>\n",
       "      <td>[[0.7707808]]</td>\n",
       "      <td>[[0.780583]]</td>\n",
       "      <td>[[0.77740395]]</td>\n",
       "      <td>[[0.81745017]]</td>\n",
       "      <td>[[0.7635962]]</td>\n",
       "      <td>[[0.80434763]]</td>\n",
       "      <td>[[0.7257683]]</td>\n",
       "      <td>[[0.7191614]]</td>\n",
       "      <td>[[0.7486269]]</td>\n",
       "    </tr>\n",
       "    <tr>\n",
       "      <th>office</th>\n",
       "      <td>[[0.6667457]]</td>\n",
       "      <td>[[0.6474495]]</td>\n",
       "      <td>[[0.70749116]]</td>\n",
       "      <td>[[0.7138093]]</td>\n",
       "      <td>[[0.66423905]]</td>\n",
       "      <td>[[0.6953491]]</td>\n",
       "      <td>[[0.7377806]]</td>\n",
       "      <td>[[0.7137201]]</td>\n",
       "      <td>[[0.7505362]]</td>\n",
       "      <td>[[0.7773689]]</td>\n",
       "    </tr>\n",
       "    <tr>\n",
       "      <th>openairmarket</th>\n",
       "      <td>[[0.57567334]]</td>\n",
       "      <td>[[0.7776028]]</td>\n",
       "      <td>[[0.84255636]]</td>\n",
       "      <td>[[0.8416214]]</td>\n",
       "      <td>[[0.8504772]]</td>\n",
       "      <td>[[0.7633233]]</td>\n",
       "      <td>[[0.7735147]]</td>\n",
       "      <td>[[0.8848965]]</td>\n",
       "      <td>[[0.8722714]]</td>\n",
       "      <td>[[0.72082406]]</td>\n",
       "    </tr>\n",
       "    <tr>\n",
       "      <th>park</th>\n",
       "      <td>[[0.666398]]</td>\n",
       "      <td>[[0.57808065]]</td>\n",
       "      <td>[[0.68195534]]</td>\n",
       "      <td>[[0.6800808]]</td>\n",
       "      <td>[[0.0]]</td>\n",
       "      <td>[[0.7549496]]</td>\n",
       "      <td>[[0.66364014]]</td>\n",
       "      <td>[[0.6830393]]</td>\n",
       "      <td>[[0.6923012]]</td>\n",
       "      <td>[[0.6651525]]</td>\n",
       "    </tr>\n",
       "    <tr>\n",
       "      <th>quietstreet</th>\n",
       "      <td>[[0.83606726]]</td>\n",
       "      <td>[[0.8781643]]</td>\n",
       "      <td>[[0.8349311]]</td>\n",
       "      <td>[[0.8735795]]</td>\n",
       "      <td>[[0.8455584]]</td>\n",
       "      <td>[[0.75372744]]</td>\n",
       "      <td>[[0.84339213]]</td>\n",
       "      <td>[[0.7419493]]</td>\n",
       "      <td>[[0.84801966]]</td>\n",
       "      <td>[[0.79420066]]</td>\n",
       "    </tr>\n",
       "    <tr>\n",
       "      <th>restaurant</th>\n",
       "      <td>[[0.6609124]]</td>\n",
       "      <td>[[0.54670084]]</td>\n",
       "      <td>[[0.66154945]]</td>\n",
       "      <td>[[0.66234535]]</td>\n",
       "      <td>[[0.5512289]]</td>\n",
       "      <td>[[0.80988026]]</td>\n",
       "      <td>[[0.6068625]]</td>\n",
       "      <td>[[0.76710606]]</td>\n",
       "      <td>[[0.81833196]]</td>\n",
       "      <td>[[0.7055687]]</td>\n",
       "    </tr>\n",
       "    <tr>\n",
       "      <th>supermarket</th>\n",
       "      <td>[[0.71209264]]</td>\n",
       "      <td>[[0.6994479]]</td>\n",
       "      <td>[[0.71578526]]</td>\n",
       "      <td>[[0.75346863]]</td>\n",
       "      <td>[[0.72066957]]</td>\n",
       "      <td>[[0.8455949]]</td>\n",
       "      <td>[[0.42583978]]</td>\n",
       "      <td>[[0.7846128]]</td>\n",
       "      <td>[[0.8210941]]</td>\n",
       "      <td>[[0.6781119]]</td>\n",
       "    </tr>\n",
       "    <tr>\n",
       "      <th>tube</th>\n",
       "      <td>[[0.7166865]]</td>\n",
       "      <td>[[0.6667471]]</td>\n",
       "      <td>[[0.88900834]]</td>\n",
       "      <td>[[0.86957026]]</td>\n",
       "      <td>[[0.82274616]]</td>\n",
       "      <td>[[0.79702944]]</td>\n",
       "      <td>[[0.853956]]</td>\n",
       "      <td>[[0.8693592]]</td>\n",
       "      <td>[[0.8263468]]</td>\n",
       "      <td>[[0.7189609]]</td>\n",
       "    </tr>\n",
       "    <tr>\n",
       "      <th>tubestation</th>\n",
       "      <td>[[0.8214318]]</td>\n",
       "      <td>[[0.65559435]]</td>\n",
       "      <td>[[0.95246065]]</td>\n",
       "      <td>[[0.9118539]]</td>\n",
       "      <td>[[0.90046316]]</td>\n",
       "      <td>[[0.9227542]]</td>\n",
       "      <td>[[0.9588466]]</td>\n",
       "      <td>[[0.8882047]]</td>\n",
       "      <td>[[0.86309165]]</td>\n",
       "      <td>[[0.79150736]]</td>\n",
       "    </tr>\n",
       "  </tbody>\n",
       "</table>\n",
       "</div>"
      ],
      "text/plain": [
       "                      airport             bus           metro   metro_station  \\\n",
       "bus            [[0.56299496]]         [[0.0]]  [[0.63388085]]  [[0.63291025]]   \n",
       "busystreet      [[0.7786833]]   [[0.7707808]]    [[0.780583]]  [[0.77740395]]   \n",
       "office          [[0.6667457]]   [[0.6474495]]  [[0.70749116]]   [[0.7138093]]   \n",
       "openairmarket  [[0.57567334]]   [[0.7776028]]  [[0.84255636]]   [[0.8416214]]   \n",
       "park             [[0.666398]]  [[0.57808065]]  [[0.68195534]]   [[0.6800808]]   \n",
       "quietstreet    [[0.83606726]]   [[0.8781643]]   [[0.8349311]]   [[0.8735795]]   \n",
       "restaurant      [[0.6609124]]  [[0.54670084]]  [[0.66154945]]  [[0.66234535]]   \n",
       "supermarket    [[0.71209264]]   [[0.6994479]]  [[0.71578526]]  [[0.75346863]]   \n",
       "tube            [[0.7166865]]   [[0.6667471]]  [[0.88900834]]  [[0.86957026]]   \n",
       "tubestation     [[0.8214318]]  [[0.65559435]]  [[0.95246065]]   [[0.9118539]]   \n",
       "\n",
       "                         park   public_square   shopping_mall  \\\n",
       "bus            [[0.57808065]]  [[0.77133995]]   [[0.7124024]]   \n",
       "busystreet     [[0.81745017]]   [[0.7635962]]  [[0.80434763]]   \n",
       "office         [[0.66423905]]   [[0.6953491]]   [[0.7377806]]   \n",
       "openairmarket   [[0.8504772]]   [[0.7633233]]   [[0.7735147]]   \n",
       "park                  [[0.0]]   [[0.7549496]]  [[0.66364014]]   \n",
       "quietstreet     [[0.8455584]]  [[0.75372744]]  [[0.84339213]]   \n",
       "restaurant      [[0.5512289]]  [[0.80988026]]   [[0.6068625]]   \n",
       "supermarket    [[0.72066957]]   [[0.8455949]]  [[0.42583978]]   \n",
       "tube           [[0.82274616]]  [[0.79702944]]    [[0.853956]]   \n",
       "tubestation    [[0.90046316]]   [[0.9227542]]   [[0.9588466]]   \n",
       "\n",
       "              street_pedestrian  street_traffic            tram  \n",
       "bus               [[0.6849394]]  [[0.61847985]]  [[0.62227905]]  \n",
       "busystreet        [[0.7257683]]   [[0.7191614]]   [[0.7486269]]  \n",
       "office            [[0.7137201]]   [[0.7505362]]   [[0.7773689]]  \n",
       "openairmarket     [[0.8848965]]   [[0.8722714]]  [[0.72082406]]  \n",
       "park              [[0.6830393]]   [[0.6923012]]   [[0.6651525]]  \n",
       "quietstreet       [[0.7419493]]  [[0.84801966]]  [[0.79420066]]  \n",
       "restaurant       [[0.76710606]]  [[0.81833196]]   [[0.7055687]]  \n",
       "supermarket       [[0.7846128]]   [[0.8210941]]   [[0.6781119]]  \n",
       "tube              [[0.8693592]]   [[0.8263468]]   [[0.7189609]]  \n",
       "tubestation       [[0.8882047]]  [[0.86309165]]  [[0.79150736]]  "
      ]
     },
     "execution_count": 59,
     "metadata": {},
     "output_type": "execute_result"
    }
   ],
   "source": [
    "scapper_tut_scenes_df"
   ]
  },
  {
   "cell_type": "code",
   "execution_count": 66,
   "metadata": {},
   "outputs": [],
   "source": [
    "scapper_tut_scenes_df.to_csv('scrapper_tut_scenes_cosineDistance.csv', index=False)"
   ]
  },
  {
   "cell_type": "code",
   "execution_count": 61,
   "metadata": {},
   "outputs": [],
   "source": [
    "scapper_audioset_df = pd.DataFrame(index=audioset_events, columns=list(scapper_unique_events))\n",
    "\n",
    "for i in range(len(list(scapper_unique_events))):\n",
    "    for j in range(len(audioset_events)):\n",
    "        cosine_distanc = get_embeddings_distance(list(scapper_unique_events)[i], audioset_events[j])\n",
    "        scapper_audioset_df[list(scapper_unique_events)[i]][audioset_events[j]] = cosine_distanc\n"
   ]
  },
  {
   "cell_type": "code",
   "execution_count": 67,
   "metadata": {},
   "outputs": [],
   "source": [
    "scapper_audioset_df.to_csv('scrapper_audioset_events_cosineDistance.csv', index=False)"
   ]
  },
  {
   "cell_type": "code",
   "execution_count": 49,
   "metadata": {},
   "outputs": [
    {
     "data": {
      "text/plain": [
       "array([[0.8425564]], dtype=float32)"
      ]
     },
     "execution_count": 49,
     "metadata": {},
     "output_type": "execute_result"
    }
   ],
   "source": [
    "\n",
    "import numpy as np\n",
    "\n",
    "cosine_distances(np.reshape(scapper_scenes_semantic_embeddings[3], (1, -1)), np.reshape(tut_scenes_semantic_embeddings[2], (1, -1)))"
   ]
  },
  {
   "cell_type": "code",
   "execution_count": 50,
   "metadata": {},
   "outputs": [
    {
     "data": {
      "text/plain": [
       "('openairmarket', 'metro')"
      ]
     },
     "execution_count": 50,
     "metadata": {},
     "output_type": "execute_result"
    }
   ],
   "source": [
    "scapper_scenes[3], tut_scenes[2]"
   ]
  }
 ],
 "metadata": {
  "kernelspec": {
   "display_name": "noiseremoval",
   "language": "python",
   "name": "python3"
  },
  "language_info": {
   "codemirror_mode": {
    "name": "ipython",
    "version": 3
   },
   "file_extension": ".py",
   "mimetype": "text/x-python",
   "name": "python",
   "nbconvert_exporter": "python",
   "pygments_lexer": "ipython3",
   "version": "3.11.5"
  }
 },
 "nbformat": 4,
 "nbformat_minor": 2
}
